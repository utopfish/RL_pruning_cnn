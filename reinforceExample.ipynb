{
 "cells": [
  {
   "cell_type": "markdown",
   "metadata": {
    "colab_type": "text",
    "id": "03yo8rjFP7Tf"
   },
   "source": [
    "# 新段落"
   ]
  },
  {
   "cell_type": "code",
   "execution_count": 9,
   "metadata": {
    "colab": {
     "base_uri": "https://localhost:8080/",
     "height": 413
    },
    "colab_type": "code",
    "id": "ZzQN_ROzY3YP",
    "outputId": "9d548342-5c9a-4478-e555-0da4aa38d513"
   },
   "outputs": [],
   "source": [
    "\n",
    "#tensorflow_version 2.x\n",
    "import os\n",
    "import tensorflow as tf\n",
    "from tensorflow.keras import Sequential\n",
    "from tensorflow.keras.layers import Dense, Input, Convolution2D, Flatten, MaxPool2D, Dropout, SpatialDropout2D, BatchNormalization, Activation\n",
    "\n",
    "gpus = tf.config.list_physical_devices(\"GPU\")\n",
    "if gpus:\n",
    "    for gpu in gpus:\n",
    "        tf.config.experimental.set_memory_growth(gpu, True)\n",
    "\n",
    "(mnist_imgs, mnist_lbls), (mnist_test_imgs, mnist_test_lbls) = tf.keras.datasets.mnist.load_data()\n",
    "mnist_imgs = mnist_imgs.reshape(-1, 28, 28, 1) / 255.0\n",
    "mnist_test_imgs = mnist_test_imgs.reshape(-1, 28, 28, 1) / 255.0\n",
    "\n",
    "\n"
   ]
  },
  {
   "cell_type": "code",
   "execution_count": 10,
   "metadata": {},
   "outputs": [],
   "source": [
    "def create_model():\n",
    "    net = Sequential([\n",
    "    Input([28,28,1]),\n",
    "    Convolution2D(96,(3,3),padding = \"same\"),\n",
    "    Activation(\"relu\"),\n",
    "    Convolution2D(96,(3,3)),\n",
    "    Activation(\"relu\"),\n",
    "    #\n",
    "    MaxPool2D(pool_size=(2,2)),\n",
    "    SpatialDropout2D(0.1),\n",
    "    Convolution2D(192,(3,3),padding = \"same\"),\n",
    "    Activation(\"relu\"),\n",
    "    Convolution2D(192,(3,3)),\n",
    "    Activation(\"relu\"),\n",
    "    #\n",
    "    MaxPool2D(pool_size=(2,2)),\n",
    "    SpatialDropout2D(0.1),\n",
    "    Flatten(),\n",
    "    Dense(100),\n",
    "    Activation(\"relu\"),\n",
    "    Dropout(0.1),\n",
    "    #\n",
    "    Dense(10,activation=\"softmax\")\n",
    "])\n",
    "\n",
    "    net.compile(optimizer=tf.keras.optimizers.Adam(),\n",
    "    loss='sparse_categorical_crossentropy', metrics=['accuracy'])\n",
    "    return net"
   ]
  },
  {
   "cell_type": "code",
   "execution_count": 11,
   "metadata": {
    "pycharm": {
     "name": "#%%\n"
    }
   },
   "outputs": [
    {
     "name": "stdout",
     "output_type": "stream",
     "text": [
      "Train on 54000 samples, validate on 6000 samples\n",
      "53760/54000 [============================>.] - ETA: 1s - loss: 0.2198 - accuracy: 0.9324\n",
      "Epoch 00001: saving model to training_1/cp.ckpt\n",
      "54000/54000 [==============================] - 333s 6ms/sample - loss: 0.2190 - accuracy: 0.9327 - val_loss: 0.0486 - val_accuracy: 0.9873\n"
     ]
    },
    {
     "data": {
      "text/plain": [
       "<tensorflow.python.keras.callbacks.History at 0x1b02f548080>"
      ]
     },
     "execution_count": 11,
     "metadata": {},
     "output_type": "execute_result"
    }
   ],
   "source": [
    "\n",
    "\n",
    "net=create_model()\n",
    "checkpoint_path = \"training_1/cp.ckpt\"\n",
    "checkpoint_dir = os.path.dirname(checkpoint_path)\n",
    "\n",
    "# 创建一个检查点回调\n",
    "cp_callback = tf.keras.callbacks.ModelCheckpoint(checkpoint_path,\n",
    "                                                 save_weights_only=True,\n",
    "                                                 verbose=1)\n",
    "net.fit(mnist_imgs, mnist_lbls, batch_size=256, epochs=1,validation_split = 0.1,\n",
    "       callbacks = [cp_callback])\n",
    "#net.fit(fashion_imgs, fashion_lbls, batch_size=256, epochs=10,validation_split = 0.1)\n",
    "#net.fit(cifar_imgs, cifar_lbls, batch_size=256, epochs=5,validation_split = 0.1)"
   ]
  },
  {
   "cell_type": "markdown",
   "metadata": {
    "colab_type": "text",
    "id": "ft8_oHfeSPD2",
    "pycharm": {
     "name": "#%% md\n"
    }
   },
   "source": [
    "How does net look like?"
   ]
  },
  {
   "cell_type": "code",
   "execution_count": 11,
   "metadata": {
    "colab": {
     "base_uri": "https://localhost:8080/",
     "height": 773
    },
    "colab_type": "code",
    "id": "RUBLdnR5T9vr",
    "outputId": "a8774a2e-0cfd-470b-ffcc-7d777550aec8"
   },
   "outputs": [
    {
     "name": "stdout",
     "output_type": "stream",
     "text": [
      "Model: \"sequential_1\"\n",
      "_________________________________________________________________\n",
      "Layer (type)                 Output Shape              Param #   \n",
      "=================================================================\n",
      "conv2d_4 (Conv2D)            (None, 28, 28, 96)        960       \n",
      "_________________________________________________________________\n",
      "activation_5 (Activation)    (None, 28, 28, 96)        0         \n",
      "_________________________________________________________________\n",
      "conv2d_5 (Conv2D)            (None, 26, 26, 96)        83040     \n",
      "_________________________________________________________________\n",
      "activation_6 (Activation)    (None, 26, 26, 96)        0         \n",
      "_________________________________________________________________\n",
      "max_pooling2d_2 (MaxPooling2 (None, 13, 13, 96)        0         \n",
      "_________________________________________________________________\n",
      "spatial_dropout2d_2 (Spatial (None, 13, 13, 96)        0         \n",
      "_________________________________________________________________\n",
      "conv2d_6 (Conv2D)            (None, 13, 13, 192)       166080    \n",
      "_________________________________________________________________\n",
      "activation_7 (Activation)    (None, 13, 13, 192)       0         \n",
      "_________________________________________________________________\n",
      "conv2d_7 (Conv2D)            (None, 11, 11, 192)       331968    \n",
      "_________________________________________________________________\n",
      "activation_8 (Activation)    (None, 11, 11, 192)       0         \n",
      "_________________________________________________________________\n",
      "max_pooling2d_3 (MaxPooling2 (None, 5, 5, 192)         0         \n",
      "_________________________________________________________________\n",
      "spatial_dropout2d_3 (Spatial (None, 5, 5, 192)         0         \n",
      "_________________________________________________________________\n",
      "flatten_1 (Flatten)          (None, 4800)              0         \n",
      "_________________________________________________________________\n",
      "dense_2 (Dense)              (None, 100)               480100    \n",
      "_________________________________________________________________\n",
      "activation_9 (Activation)    (None, 100)               0         \n",
      "_________________________________________________________________\n",
      "dropout_1 (Dropout)          (None, 100)               0         \n",
      "_________________________________________________________________\n",
      "dense_3 (Dense)              (None, 10)                1010      \n",
      "=================================================================\n",
      "Total params: 1,063,158\n",
      "Trainable params: 1,063,158\n",
      "Non-trainable params: 0\n",
      "_________________________________________________________________\n"
     ]
    }
   ],
   "source": [
    "net.summary()"
   ]
  },
  {
   "cell_type": "code",
   "execution_count": 12,
   "metadata": {
    "colab": {
     "base_uri": "https://localhost:8080/",
     "height": 53
    },
    "colab_type": "code",
    "id": "qL9tGfPjxxRC",
    "outputId": "4867766c-37c8-4220-fe00-652d9251e1bb"
   },
   "outputs": [
    {
     "name": "stdout",
     "output_type": "stream",
     "text": [
      "10000/10000 [==============================] - 12s 1ms/sample - loss: 0.0444 - accuracy: 0.9868\n",
      "[0.04439221452921629, 0.9868]\n"
     ]
    }
   ],
   "source": [
    "test_result = net.evaluate(mnist_test_imgs,mnist_test_lbls,1000)\n",
    "print(test_result)"
   ]
  },
  {
   "cell_type": "code",
   "execution_count": 13,
   "metadata": {
    "colab": {},
    "colab_type": "code",
    "id": "p2G9x7Y-h0r2"
   },
   "outputs": [],
   "source": [
    "import numpy as np\n",
    "net = create_model()\n",
    "net.load_weights(checkpoint_path)\n",
    "all_weights_of_whole_CNN = np.array(net.get_weights())       \n",
    "#net.set_weights(a + 0.01)                 \n",
    "#net.predict(mnist_test_imgs[0:10])"
   ]
  },
  {
   "cell_type": "code",
   "execution_count": 14,
   "metadata": {
    "colab": {
     "base_uri": "https://localhost:8080/",
     "height": 251
    },
    "colab_type": "code",
    "id": "dEEQSzfwpnEu",
    "outputId": "8daf04ce-b2fd-413d-cb93-d81f2eff81bd"
   },
   "outputs": [
    {
     "name": "stdout",
     "output_type": "stream",
     "text": [
      "[array([[ 0.01266974,  0.00676809, -0.00048612, ...,  0.01167931,\n",
      "        -0.0383155 ,  0.01509606],\n",
      "       [ 0.00864687, -0.02382355, -0.00308019, ..., -0.02987268,\n",
      "        -0.02724801, -0.00793362],\n",
      "       [-0.0256852 , -0.03435234,  0.01557891, ...,  0.00174566,\n",
      "         0.00119009,  0.02896742],\n",
      "       ...,\n",
      "       [ 0.00537608, -0.00486933, -0.0064533 , ..., -0.03038361,\n",
      "         0.03887499, -0.00468508],\n",
      "       [ 0.0072107 , -0.01468464,  0.03506203, ...,  0.00627995,\n",
      "        -0.0270571 , -0.01976817],\n",
      "       [ 0.02022617, -0.03406528, -0.00191255, ..., -0.01203801,\n",
      "        -0.02215942, -0.02948261]], dtype=float32)]\n"
     ]
    }
   ],
   "source": [
    "print(all_weights_of_whole_CNN[-4:-3]) "
   ]
  },
  {
   "cell_type": "code",
   "execution_count": 15,
   "metadata": {
    "colab": {
     "base_uri": "https://localhost:8080/",
     "height": 251
    },
    "colab_type": "code",
    "id": "fiCaSmqjrRwG",
    "outputId": "333e5dcc-6ec0-4421-836b-433f5afe1c59"
   },
   "outputs": [],
   "source": [
    "flatten1_to_dens2_weights_in2d = all_weights_of_whole_CNN[-4:-3][0].copy() \n",
    "#flatten1->dens2 480000 para\n",
    "#print(flatten1_to_dens2_weights_in2d)"
   ]
  },
  {
   "cell_type": "code",
   "execution_count": null,
   "outputs": [],
   "source": [
    "flatten1_to_dens2_weights_in2d = all_weights_of_whole_CNN[-4:-3][0].copy() \n",
    "#flatten1->dens2 480000 para to be pruned\n",
    "\n",
    "pruning_rate = 0.91\n",
    "#hyper para, the ratio of weights set to 0(negelect, in other words)\n",
    "\n",
    "flatten1_to_dens2_weights_in1d=flatten1_to_dens2_weights_in2d.flatten()   \n",
    "#flatten those 2-d weights paras\n",
    "\n",
    "\n",
    "Change_a_little_in2d_temp = flatten1_to_dens2_weights_in2d.copy()\n",
    "\n",
    "for i in range(0, 4799):\n",
    "\n",
    "  index_of_Descending_Order = np.argsort(-abs(Change_a_little_in2d_temp[i]))\n",
    "  #use argsort(-1 * arg) to return the index of Descending Order of the weight value\n",
    "\n",
    "  for j in range(0, 100):\n",
    "    if (j >= int(99*(1-pruning_rate))):\n",
    "      Change_a_little_in2d_temp[i][index_of_Descending_Order[j]] = 0\n",
    "   \n",
    "  \n",
    "all_weights_of_whole_CNN[-4:-3][0] = Change_a_little_in2d_temp\n",
    "net.set_weights(all_weights_of_whole_CNN)\n",
    "test_result = net.evaluate(mnist_test_imgs,mnist_test_lbls,100)\n",
    "# test_result = net.evaluate(fashion_val_imgs,fashion_val_lbls,100)\n",
    "print(test_result)\n",
    "\n",
    "# all_weights_of_whole_CNN[-4:-3][0] = flatten1_to_dens2_weights_in2d\n",
    "# net.set_weights(all_weights_of_whole_CNN)\n",
    "# test_result_original = net.evaluate(mnist_imgs,mnist_lbls,100)\n",
    "# # test_result_original = net.evaluate(fashion_val_imgs,fashion_val_lbls,100)\n",
    "# print(test_result_original)\n"
   ],
   "metadata": {
    "collapsed": false,
    "pycharm": {
     "name": "#%%\n"
    }
   }
  },
  {
   "cell_type": "code",
   "execution_count": 17,
   "metadata": {
    "colab": {
     "base_uri": "https://localhost:8080/",
     "height": 125
    },
    "colab_type": "code",
    "id": "Mg5D8DEV4YuV",
    "outputId": "730b4da4-cfbe-4029-d733-6c3a503b56c1"
   },
   "outputs": [
    {
     "name": "stdout",
     "output_type": "stream",
     "text": [
      "[ 0.01266974  0.00676809 -0.00048612 ... -0.01203801 -0.02215942\n",
      " -0.02948261]\n",
      "10000/10000 [==============================] - 12s 1ms/sample - loss: 0.1670 - accuracy: 0.9854\n",
      "[0.1669769985228777, 0.9854]\n"
     ]
    }
   ],
   "source": [
    "net.summary()\n"
   ]
  },
  {
   "cell_type": "code",
   "execution_count": 22,
   "metadata": {
    "pycharm": {
     "name": "#%%\n"
    }
   },
   "outputs": [
    {
     "name": "stdout",
     "output_type": "stream",
     "text": [
      "Model: \"sequential_1\"\n",
      "_________________________________________________________________\n",
      "Layer (type)                 Output Shape              Param #   \n",
      "=================================================================\n",
      "conv2d_4 (Conv2D)            (None, 28, 28, 96)        960       \n",
      "_________________________________________________________________\n",
      "activation_5 (Activation)    (None, 28, 28, 96)        0         \n",
      "_________________________________________________________________\n",
      "conv2d_5 (Conv2D)            (None, 26, 26, 96)        83040     \n",
      "_________________________________________________________________\n",
      "activation_6 (Activation)    (None, 26, 26, 96)        0         \n",
      "_________________________________________________________________\n",
      "max_pooling2d_2 (MaxPooling2 (None, 13, 13, 96)        0         \n",
      "_________________________________________________________________\n",
      "spatial_dropout2d_2 (Spatial (None, 13, 13, 96)        0         \n",
      "_________________________________________________________________\n",
      "conv2d_6 (Conv2D)            (None, 13, 13, 192)       166080    \n",
      "_________________________________________________________________\n",
      "activation_7 (Activation)    (None, 13, 13, 192)       0         \n",
      "_________________________________________________________________\n",
      "conv2d_7 (Conv2D)            (None, 11, 11, 192)       331968    \n",
      "_________________________________________________________________\n",
      "activation_8 (Activation)    (None, 11, 11, 192)       0         \n",
      "_________________________________________________________________\n",
      "max_pooling2d_3 (MaxPooling2 (None, 5, 5, 192)         0         \n",
      "_________________________________________________________________\n",
      "spatial_dropout2d_3 (Spatial (None, 5, 5, 192)         0         \n",
      "_________________________________________________________________\n",
      "flatten_1 (Flatten)          (None, 4800)              0         \n",
      "_________________________________________________________________\n",
      "dense_2 (Dense)              (None, 100)               480100    \n",
      "_________________________________________________________________\n",
      "activation_9 (Activation)    (None, 100)               0         \n",
      "_________________________________________________________________\n",
      "dropout_1 (Dropout)          (None, 100)               0         \n",
      "_________________________________________________________________\n",
      "dense_3 (Dense)              (None, 10)                1010      \n",
      "=================================================================\n",
      "Total params: 1,063,158\n",
      "Trainable params: 1,063,158\n",
      "Non-trainable params: 0\n",
      "_________________________________________________________________\n"
     ]
    }
   ],
   "source": [
    "net.summary()\n"
   ]
  },
  {
   "cell_type": "code",
   "execution_count": null,
   "metadata": {
    "colab": {},
    "colab_type": "code",
    "id": "KmSI9thfqo0Q"
   },
   "outputs": [],
   "source": []
  }
 ],
 "metadata": {
  "accelerator": "GPU",
  "colab": {
   "collapsed_sections": [],
   "name": "Example.ipynb",
   "provenance": []
  },
  "kernelspec": {
   "display_name": "Python 3",
   "language": "python",
   "name": "python3"
  },
  "language_info": {
   "codemirror_mode": {
    "name": "ipython",
    "version": 3
   },
   "file_extension": ".py",
   "mimetype": "text/x-python",
   "name": "python",
   "nbconvert_exporter": "python",
   "pygments_lexer": "ipython3",
   "version": "3.7.1"
  }
 },
 "nbformat": 4,
 "nbformat_minor": 1
}